{
 "cells": [
  {
   "cell_type": "code",
   "execution_count": 1,
   "id": "91482540",
   "metadata": {
    "scrolled": false
   },
   "outputs": [
    {
     "data": {
      "application/javascript": [
       "\n",
       "            setTimeout(function() {\n",
       "                var nbb_cell_id = 1;\n",
       "                var nbb_unformatted_code = \"%load_ext nb_black\";\n",
       "                var nbb_formatted_code = \"%load_ext nb_black\";\n",
       "                var nbb_cells = Jupyter.notebook.get_cells();\n",
       "                for (var i = 0; i < nbb_cells.length; ++i) {\n",
       "                    if (nbb_cells[i].input_prompt_number == nbb_cell_id) {\n",
       "                        if (nbb_cells[i].get_text() == nbb_unformatted_code) {\n",
       "                             nbb_cells[i].set_text(nbb_formatted_code);\n",
       "                        }\n",
       "                        break;\n",
       "                    }\n",
       "                }\n",
       "            }, 500);\n",
       "            "
      ],
      "text/plain": [
       "<IPython.core.display.Javascript object>"
      ]
     },
     "metadata": {},
     "output_type": "display_data"
    }
   ],
   "source": [
    "%load_ext nb_black"
   ]
  },
  {
   "cell_type": "markdown",
   "id": "33c92553",
   "metadata": {},
   "source": [
    "# Sorting Algorithms Guide and Python"
   ]
  },
  {
   "cell_type": "markdown",
   "id": "287b24d2",
   "metadata": {},
   "source": [
    "The purpose of this notebook is to provide a **quick reference** for many popular sorting algorithms such as quick sort, merge sort, and so on. All algorithms are provided with an overall, psudo code, and python code. "
   ]
  },
  {
   "cell_type": "markdown",
   "id": "b66a859d",
   "metadata": {},
   "source": [
    "## Quick Sort"
   ]
  },
  {
   "cell_type": "markdown",
   "id": "741b033c",
   "metadata": {},
   "source": [
    "### Overall\n",
    "- in-place\n",
    "- divide and conquer\n",
    "- not stable (relative order of equal sort items is not preserved) "
   ]
  },
  {
   "cell_type": "markdown",
   "id": "327696b0",
   "metadata": {},
   "source": [
    "### Big O\n",
    "**Time**\n",
    "\n",
    "Average: O(n * log n)\n",
    "\n",
    "Worst: O(n^2)\n",
    "\n",
    "Best: O(n * log n)\n",
    "\n",
    "**Space**\n",
    "Worst-case: O(n) auxilary (naive)"
   ]
  },
  {
   "cell_type": "markdown",
   "id": "3906a149",
   "metadata": {},
   "source": [
    "### Explanation\n",
    "Select a pivot from the array, and partition the rest elements into two sub-arries depending on the element is less-than or greater-than the pivot. Recursively sort the sub-arraies until there is 1 or 0 elements in the subarray. "
   ]
  },
  {
   "cell_type": "markdown",
   "id": "ab226734",
   "metadata": {},
   "source": [
    "### Pseudo Code\n",
    "\n",
    "```\n",
    "quick_sort(arr, low, high):\n",
    "    if len(arr) < = 1 return arr\n",
    "    while low < high:\n",
    "        if arr[low] > arr[high]: \n",
    "            move arr[low] to after arr[high] \n",
    "            shift everything in between one element left\n",
    "            high -= 1\n",
    "        else\n",
    "        low += 1\n",
    "    left = quick_sort(arr[:high], 0, high)\n",
    "    right = quick_ort(arr[high:], high, len(arr))\n",
    "    return  left_sorted + [pivot] + right_sorted\n",
    "```"
   ]
  },
  {
   "cell_type": "markdown",
   "id": "5202d45b",
   "metadata": {},
   "source": [
    "### Python"
   ]
  },
  {
   "cell_type": "code",
   "execution_count": 1,
   "id": "2203a428",
   "metadata": {},
   "outputs": [],
   "source": [
    "def quick_sort_1(arr, low, high):\n",
    "    if len(arr) <= 1:\n",
    "        return arr\n",
    "    while low < high:\n",
    "        if arr[low] > arr[high]:\n",
    "            arr[low], arr[high - 1] = arr[high - 1], arr[low]\n",
    "            arr[high], arr[high - 1] = arr[high - 1], arr[high]\n",
    "            high -= 1\n",
    "        else:\n",
    "            low += 1\n",
    "    lower_arr_sorted = quick_sort_1(arr, 0, high - 1)\n",
    "    higher_arr_sorted = quick_sort_1(arr, high + 1, len(arr) - 1)\n",
    "\n",
    "    return lower_arr_sorted + [arr[high]] + higher_arr_sorted"
   ]
  },
  {
   "cell_type": "code",
   "execution_count": null,
   "id": "a9d680b1",
   "metadata": {},
   "outputs": [],
   "source": [
    "arrs = [[10, 30, 80, 90, 40, 50, 70], [10], [], [10, 30, 20, 30, 20]]\n",
    "answers = [[10, 30, 40, 50, 70, 80, 90], [10], [], [10, 20, 20, 30, 30]]\n",
    "\n",
    "for i in range(len(arrs)):\n",
    "    arr_sorted = quick_sort_1(arrs[i], 0, len(arrs[i]) - 1)\n",
    "    print(f\"Original array: {arrs[i]}\")\n",
    "    print(f\"Sorted array:  {arr_sorted}\")\n",
    "    print(f\"Should return: {answers[i]}\")\n",
    "    print(\"---\")"
   ]
  },
  {
   "cell_type": "markdown",
   "id": "aeab21e1",
   "metadata": {},
   "source": [
    "**Below (quick_sort_2) is another implementation, But this is not in place and require additional space**"
   ]
  },
  {
   "cell_type": "code",
   "execution_count": null,
   "id": "e3318523",
   "metadata": {},
   "outputs": [],
   "source": [
    "def quick_sort_2(arr):\n",
    "    if len(arr) <= 1:\n",
    "        return arr\n",
    "    pivot = arr[0]\n",
    "    left = []\n",
    "    right = []\n",
    "    for num in arr[1:]:\n",
    "        left.append(num) if num < pivot else right.append(num)\n",
    "    left_sorted = quick_sort_2(left)\n",
    "    right_sorted = quick_sort_2(right)\n",
    "    return left_sorted + [pivot] + right_sorted"
   ]
  },
  {
   "cell_type": "code",
   "execution_count": null,
   "id": "d5376634",
   "metadata": {},
   "outputs": [],
   "source": [
    "arrs = [[10, 30, 80, 90, 40, 50, 70], [10], [], [10, 30, 20, 30, 20]]\n",
    "answers = [[10, 30, 40, 50, 70, 80, 90], [10], [], [10, 20, 20, 30, 30]]\n",
    "\n",
    "for i in range(len(arrs)):\n",
    "    arr_sorted = quick_sort_2(arrs[i])\n",
    "    print(f\"Original: {arrs[i]}\")\n",
    "    print(f\"Sorted array:  {arr_sorted}\")\n",
    "    print(f\"Should return: {answers[i]}\")\n",
    "    print(\"---\")"
   ]
  },
  {
   "cell_type": "markdown",
   "id": "76d621cb",
   "metadata": {},
   "source": [
    "## Merge Sort"
   ]
  },
  {
   "cell_type": "markdown",
   "id": "8b748c3f",
   "metadata": {},
   "source": [
    "### Overall\n",
    " - stable\n",
    " - divide and conquer"
   ]
  },
  {
   "cell_type": "markdown",
   "id": "15bb7363",
   "metadata": {},
   "source": [
    "### Big O\n",
    "**Time**\n",
    "\n",
    "Average: O(n * log n)\n",
    "\n",
    "Worst: O(n * log n)\n",
    "\n",
    "Best: O(n * log n)\n",
    "\n",
    "**Space**\n",
    "Worst-case: O(n) auxilary"
   ]
  },
  {
   "cell_type": "markdown",
   "id": "d6a89e21",
   "metadata": {},
   "source": [
    "### Explaination\n",
    "merge sort has two steps: divide and merge. Divide step is to divide all elements from the array to smallest sub-arrays i.e. array of 1 element. Then merge step kicks in, which is to pick the smaller element from each two neiboring sub-arrays and put it into one sorted_array. The sorted_array will be returned once the all the elements have been already checked. "
   ]
  },
  {
   "cell_type": "markdown",
   "id": "859460e6",
   "metadata": {},
   "source": [
    "### Pseudo code\n",
    "\n",
    "```\n",
    "merge_sort(arr)\n",
    "\n",
    "    # divide step\n",
    "    if arrLength <= 1:\n",
    "        return arr\n",
    "    middleIndex = arrLength // 2\n",
    "    leftArr = mergeSort(arr[0:middleIndex])\n",
    "    rightArr = mergeSort(arr[middleIndex:end])\n",
    "    \n",
    "    # merge step\n",
    "    init leftIndex, rightIndex to be 0\n",
    "    init resultArr to be empty array\n",
    "    \n",
    "    loop thru leftArr and rightArr\n",
    "        append the smaller element to resultArr\n",
    "    \n",
    "    add remaining elements to resultArr\n",
    "    \n",
    "    return resultArr\n",
    "```"
   ]
  },
  {
   "cell_type": "markdown",
   "id": "b868a2d3",
   "metadata": {},
   "source": [
    "### Python"
   ]
  },
  {
   "cell_type": "code",
   "execution_count": null,
   "id": "389506ac",
   "metadata": {},
   "outputs": [],
   "source": [
    "def merge_sort(arr):\n",
    "    return divide(arr)\n",
    "\n",
    "\n",
    "def divide(arr):\n",
    "    if len(arr) <= 1:\n",
    "        return arr\n",
    "    middleIdx = len(arr) // 2\n",
    "    left = merge_sort(arr[:middleIdx])\n",
    "    right = merge_sort(arr[middleIdx:])\n",
    "\n",
    "    return merge(left, right)\n",
    "\n",
    "\n",
    "def merge(left, right):\n",
    "    l = 0  # left array index\n",
    "    r = 0  # right array index\n",
    "    sorted_arr = []\n",
    "\n",
    "    while l < len(left) and r < len(right):\n",
    "        if left[l] < right[r]:\n",
    "            sorted_arr.append(left[l])\n",
    "            l += 1\n",
    "        else:\n",
    "            sorted_arr.append(right[r])\n",
    "            r += 1\n",
    "\n",
    "    # left and right won't have remianing together\n",
    "    sorted_arr += left[l:]  # left array may have remaining\n",
    "    sorted_arr += right[r:]  # right array may have remaining\n",
    "\n",
    "    return sorted_arr"
   ]
  },
  {
   "cell_type": "code",
   "execution_count": null,
   "id": "5ce1ee0a",
   "metadata": {},
   "outputs": [],
   "source": [
    "arrs = [\n",
    "    [10, 30, 80, 90, 40, 50, 70],\n",
    "    [10],\n",
    "    [],\n",
    "    [10, 30, 20, 30, 20],\n",
    "    [2, 5, 1, 3, 7, 4, 2, 3, 9, 8, 6, 3],\n",
    "]\n",
    "answers = [\n",
    "    [10, 30, 40, 50, 70, 80, 90],\n",
    "    [10],\n",
    "    [],\n",
    "    [10, 20, 20, 30, 30],\n",
    "    [1, 2, 2, 3, 3, 3, 4, 5, 6, 7, 8, 9],\n",
    "]\n",
    "\n",
    "for i in range(len(arrs)):\n",
    "    arr_sorted = merge_sort(arrs[i])\n",
    "    print(f\"Original: {arrs[i]}\")\n",
    "    print(f\"Sorted array:  {arr_sorted}\")\n",
    "    print(f\"Should return: {answers[i]}\")\n",
    "    print(\"---\")"
   ]
  },
  {
   "cell_type": "markdown",
   "id": "5f521880",
   "metadata": {},
   "source": [
    "## Educational Purposes Sorting Algorithms"
   ]
  },
  {
   "cell_type": "markdown",
   "id": "997823b3",
   "metadata": {},
   "source": [
    "## Bubble Sort / Sinking Sort"
   ]
  },
  {
   "cell_type": "markdown",
   "id": "3efdc6a8",
   "metadata": {},
   "source": [
    "### Big O\n",
    "**Time**\n",
    "\n",
    "Average/Worst: O(n^2)\n",
    "Best: O(n) # sorted, no swap\n",
    "\n",
    "**Space**\n",
    "Worst-case: O(1) auxilary, O(n) total"
   ]
  },
  {
   "cell_type": "markdown",
   "id": "4cee8363",
   "metadata": {},
   "source": [
    "### Explaination\n",
    "Comparing the values of two neighoring element, swap the order if arr[i] > arr[i+1] until the end of the arr. Repeat until no more swapping happens."
   ]
  },
  {
   "cell_type": "markdown",
   "id": "afdb5393",
   "metadata": {},
   "source": [
    "### Pseudo code\n",
    "```\n",
    "flag = true # swapped any elements\n",
    "while flag: \n",
    "flag = false # no swap happens, i.e. sorted\n",
    "for i < arrLength - 2:\n",
    "   swap arr[i] and arr[i+1] if arr[i] > arr[i+1]\n",
    "   flag = true # swap happened\n",
    "```"
   ]
  },
  {
   "cell_type": "markdown",
   "id": "28606be2",
   "metadata": {},
   "source": [
    "### Python"
   ]
  },
  {
   "cell_type": "code",
   "execution_count": null,
   "id": "d237c31e",
   "metadata": {},
   "outputs": [],
   "source": [
    "def bubble_sort(arr):\n",
    "    if len(arr) <= 1:\n",
    "        return arr\n",
    "    num_sorted_cell = 0\n",
    "    swapped = True\n",
    "    while swapped:\n",
    "        swapped = False\n",
    "        for i in range(len(arr) - 1 - num_sorted_cell):\n",
    "            if arr[i] > arr[i + 1]:\n",
    "                arr[i], arr[i + 1] = arr[i + 1], arr[i]\n",
    "                swapped = True\n",
    "        num_sorted_cell += 1\n",
    "    return arr"
   ]
  },
  {
   "cell_type": "code",
   "execution_count": null,
   "id": "65b5c3d1",
   "metadata": {},
   "outputs": [],
   "source": [
    "arrs = [\n",
    "    [10, 30, 80, 90, 40, 50, 70],\n",
    "    [10],\n",
    "    [],\n",
    "    [10, 30, 20, 30, 20],\n",
    "    [2, 5, 1, 3, 7, 4, 2, 3, 9, 8, 6, 3],\n",
    "]\n",
    "answers = [\n",
    "    [10, 30, 40, 50, 70, 80, 90],\n",
    "    [10],\n",
    "    [],\n",
    "    [10, 20, 20, 30, 30],\n",
    "    [1, 2, 2, 3, 3, 3, 4, 5, 6, 7, 8, 9],\n",
    "]\n",
    "\n",
    "for i in range(len(arrs)):\n",
    "    arr_sorted = bubble_sort(arrs[i])\n",
    "    print(f\"Original: {arrs[i]}\")\n",
    "    print(f\"Sorted array:  {arr_sorted}\")\n",
    "    print(f\"Should return: {answers[i]}\")\n",
    "    print(\"---\")"
   ]
  },
  {
   "cell_type": "markdown",
   "id": "a4e8e8db",
   "metadata": {},
   "source": [
    "## Selection Sort"
   ]
  },
  {
   "cell_type": "markdown",
   "id": "9bfc99fa",
   "metadata": {},
   "source": [
    "### Big O\n",
    "**Time**\n",
    "\n",
    "Average/Worst/Best: O(n^2)\n",
    "\n",
    "**Space**\n",
    "Worst-case: O(1) auxilary, O(n) total\n"
   ]
  },
  {
   "cell_type": "markdown",
   "id": "ce566651",
   "metadata": {},
   "source": [
    "### Pseudo Code\n",
    "```\n",
    "index = 0\n",
    "while index != arrLength:\n",
    "    find min element index (minIndex) in arr[index:]\n",
    "    swap arr[index] with arr[minIndex]\n",
    "    index += 1\n",
    "```"
   ]
  },
  {
   "cell_type": "markdown",
   "id": "8549beb0",
   "metadata": {},
   "source": [
    "### Python"
   ]
  },
  {
   "cell_type": "code",
   "execution_count": null,
   "id": "c1e4682d",
   "metadata": {},
   "outputs": [],
   "source": [
    "def selection_sort(arr):\n",
    "    if len(arr) <= 1:\n",
    "        return arr\n",
    "    curr_index = 0\n",
    "    while curr_index < len(arr):\n",
    "        min_index = curr_index\n",
    "        for i in range(curr_index, len(arr)):\n",
    "            if arr[i] < arr[min_index]:\n",
    "                min_index = i\n",
    "        arr[min_index], arr[curr_index] = arr[curr_index], arr[min_index]\n",
    "        curr_index += 1\n",
    "    return arr              \n"
   ]
  },
  {
   "cell_type": "code",
   "execution_count": null,
   "id": "13b7cfbb",
   "metadata": {},
   "outputs": [],
   "source": [
    "arrs = [\n",
    "    [10, 30, 80, 90, 40, 50, 70],\n",
    "    [10],\n",
    "    [],\n",
    "    [10, 30, 20, 30, 20],\n",
    "    [2, 5, 1, 3, 7, 4, 2, 3, 9, 8, 6, 3],\n",
    "]\n",
    "answers = [\n",
    "    [10, 30, 40, 50, 70, 80, 90],\n",
    "    [10],\n",
    "    [],\n",
    "    [10, 20, 20, 30, 30],\n",
    "    [1, 2, 2, 3, 3, 3, 4, 5, 6, 7, 8, 9],\n",
    "]\n",
    "\n",
    "for i in range(len(arrs)):\n",
    "    arr_sorted = selection_sort(arrs[i])\n",
    "    print(f\"Original: {arrs[i]}\")\n",
    "    print(f\"Sorted array:  {arr_sorted}\")\n",
    "    print(f\"Should return: {answers[i]}\")\n",
    "    print(\"---\")"
   ]
  }
 ],
 "metadata": {
  "kernelspec": {
   "display_name": "Python 3",
   "language": "python",
   "name": "python3"
  },
  "language_info": {
   "codemirror_mode": {
    "name": "ipython",
    "version": 3
   },
   "file_extension": ".py",
   "mimetype": "text/x-python",
   "name": "python",
   "nbconvert_exporter": "python",
   "pygments_lexer": "ipython3",
   "version": "3.9.7"
  }
 },
 "nbformat": 4,
 "nbformat_minor": 5
}
