{
 "cells": [
  {
   "cell_type": "code",
   "execution_count": 2,
   "id": "b1783dec",
   "metadata": {},
   "outputs": [
    {
     "name": "stdout",
     "output_type": "stream",
     "text": [
      "The nb_black extension is already loaded. To reload it, use:\n",
      "  %reload_ext nb_black\n"
     ]
    },
    {
     "data": {
      "application/javascript": [
       "\n",
       "            setTimeout(function() {\n",
       "                var nbb_cell_id = 2;\n",
       "                var nbb_unformatted_code = \"%load_ext nb_black\";\n",
       "                var nbb_formatted_code = \"%load_ext nb_black\";\n",
       "                var nbb_cells = Jupyter.notebook.get_cells();\n",
       "                for (var i = 0; i < nbb_cells.length; ++i) {\n",
       "                    if (nbb_cells[i].input_prompt_number == nbb_cell_id) {\n",
       "                        if (nbb_cells[i].get_text() == nbb_unformatted_code) {\n",
       "                             nbb_cells[i].set_text(nbb_formatted_code);\n",
       "                        }\n",
       "                        break;\n",
       "                    }\n",
       "                }\n",
       "            }, 500);\n",
       "            "
      ],
      "text/plain": [
       "<IPython.core.display.Javascript object>"
      ]
     },
     "metadata": {},
     "output_type": "display_data"
    }
   ],
   "source": [
    "%load_ext nb_black"
   ]
  },
  {
   "cell_type": "markdown",
   "id": "f2b7edb7",
   "metadata": {},
   "source": [
    "# Stacks and Queues"
   ]
  },
  {
   "cell_type": "markdown",
   "id": "32104cca",
   "metadata": {},
   "source": [
    "## Stack\n",
    "**LIFO - Last In First out**\n",
    "\n",
    "- cconstant time to add and remove\n",
    "- operations\n",
    "    - pop(): remove from top\n",
    "    - push(item): add to top\n",
    "    - peek(): return the top item from stack, no deletion\n",
    "    - isEmpty(): return True is stack is empty\n",
    "    - size(): return size of the stack\n",
    "\n",
    "### Usage\n",
    "Can make certain recursive algorithms iteratively."
   ]
  },
  {
   "cell_type": "markdown",
   "id": "b1279ccb",
   "metadata": {},
   "source": [
    "### Implementation\n",
    "#### via Array"
   ]
  },
  {
   "cell_type": "code",
   "execution_count": 4,
   "id": "dd9fb93d",
   "metadata": {},
   "outputs": [
    {
     "data": {
      "application/javascript": [
       "\n",
       "            setTimeout(function() {\n",
       "                var nbb_cell_id = 4;\n",
       "                var nbb_unformatted_code = \"class Stack:\\n    def __init__(self):\\n        self.stack = []\\n\\n    def pop(self):\\n        self.stack.pop()\\n\\n    def push(self, item):\\n        self.stack.append(item)\\n\\n    def peek(self):\\n        return self.stack[-1]\\n\\n    def isEmpty(self):\\n        return len(self.stack) == 0\\n\\n    def size(self):\\n        return len(self.stack)\";\n",
       "                var nbb_formatted_code = \"class Stack:\\n    def __init__(self):\\n        self.stack = []\\n\\n    def pop(self):\\n        self.stack.pop()\\n\\n    def push(self, item):\\n        self.stack.append(item)\\n\\n    def peek(self):\\n        return self.stack[-1]\\n\\n    def isEmpty(self):\\n        return len(self.stack) == 0\\n\\n    def size(self):\\n        return len(self.stack)\";\n",
       "                var nbb_cells = Jupyter.notebook.get_cells();\n",
       "                for (var i = 0; i < nbb_cells.length; ++i) {\n",
       "                    if (nbb_cells[i].input_prompt_number == nbb_cell_id) {\n",
       "                        if (nbb_cells[i].get_text() == nbb_unformatted_code) {\n",
       "                             nbb_cells[i].set_text(nbb_formatted_code);\n",
       "                        }\n",
       "                        break;\n",
       "                    }\n",
       "                }\n",
       "            }, 500);\n",
       "            "
      ],
      "text/plain": [
       "<IPython.core.display.Javascript object>"
      ]
     },
     "metadata": {},
     "output_type": "display_data"
    }
   ],
   "source": [
    "class Stack:\n",
    "    def __init__(self):\n",
    "        self.stack = []\n",
    "\n",
    "    def pop(self):\n",
    "        self.stack.pop()\n",
    "\n",
    "    def push(self, item):\n",
    "        self.stack.append(item)\n",
    "\n",
    "    def peek(self):\n",
    "        return self.stack[-1]\n",
    "\n",
    "    def isEmpty(self):\n",
    "        return len(self.stack) == 0\n",
    "\n",
    "    def size(self):\n",
    "        return len(self.stack)"
   ]
  },
  {
   "cell_type": "code",
   "execution_count": 5,
   "id": "ce2cee4e",
   "metadata": {},
   "outputs": [
    {
     "name": "stdout",
     "output_type": "stream",
     "text": [
      "True\n"
     ]
    },
    {
     "data": {
      "application/javascript": [
       "\n",
       "            setTimeout(function() {\n",
       "                var nbb_cell_id = 5;\n",
       "                var nbb_unformatted_code = \"xx = Stack()\\nprint(xx.isEmpty())  # True\";\n",
       "                var nbb_formatted_code = \"xx = Stack()\\nprint(xx.isEmpty())  # True\";\n",
       "                var nbb_cells = Jupyter.notebook.get_cells();\n",
       "                for (var i = 0; i < nbb_cells.length; ++i) {\n",
       "                    if (nbb_cells[i].input_prompt_number == nbb_cell_id) {\n",
       "                        if (nbb_cells[i].get_text() == nbb_unformatted_code) {\n",
       "                             nbb_cells[i].set_text(nbb_formatted_code);\n",
       "                        }\n",
       "                        break;\n",
       "                    }\n",
       "                }\n",
       "            }, 500);\n",
       "            "
      ],
      "text/plain": [
       "<IPython.core.display.Javascript object>"
      ]
     },
     "metadata": {},
     "output_type": "display_data"
    }
   ],
   "source": [
    "xx = Stack()\n",
    "print(xx.isEmpty())  # True"
   ]
  },
  {
   "cell_type": "code",
   "execution_count": 7,
   "id": "4738e1e2",
   "metadata": {},
   "outputs": [
    {
     "name": "stdout",
     "output_type": "stream",
     "text": [
      "False\n",
      "2\n"
     ]
    },
    {
     "data": {
      "application/javascript": [
       "\n",
       "            setTimeout(function() {\n",
       "                var nbb_cell_id = 7;\n",
       "                var nbb_unformatted_code = \"xx.push(1)\\nprint(xx.isEmpty())  # False\\nprint(xx.size())  # 1\";\n",
       "                var nbb_formatted_code = \"xx.push(1)\\nprint(xx.isEmpty())  # False\\nprint(xx.size())  # 1\";\n",
       "                var nbb_cells = Jupyter.notebook.get_cells();\n",
       "                for (var i = 0; i < nbb_cells.length; ++i) {\n",
       "                    if (nbb_cells[i].input_prompt_number == nbb_cell_id) {\n",
       "                        if (nbb_cells[i].get_text() == nbb_unformatted_code) {\n",
       "                             nbb_cells[i].set_text(nbb_formatted_code);\n",
       "                        }\n",
       "                        break;\n",
       "                    }\n",
       "                }\n",
       "            }, 500);\n",
       "            "
      ],
      "text/plain": [
       "<IPython.core.display.Javascript object>"
      ]
     },
     "metadata": {},
     "output_type": "display_data"
    }
   ],
   "source": [
    "xx.push(1)\n",
    "print(xx.isEmpty())  # False\n",
    "print(xx.size())  # 1"
   ]
  },
  {
   "cell_type": "code",
   "execution_count": 8,
   "id": "65d97758",
   "metadata": {},
   "outputs": [
    {
     "name": "stdout",
     "output_type": "stream",
     "text": [
      "2\n",
      "3\n"
     ]
    },
    {
     "data": {
      "application/javascript": [
       "\n",
       "            setTimeout(function() {\n",
       "                var nbb_cell_id = 8;\n",
       "                var nbb_unformatted_code = \"xx.push(2)\\nprint(xx.peek())  # 2\\nprint(xx.size())  # 2\";\n",
       "                var nbb_formatted_code = \"xx.push(2)\\nprint(xx.peek())  # 2\\nprint(xx.size())  # 2\";\n",
       "                var nbb_cells = Jupyter.notebook.get_cells();\n",
       "                for (var i = 0; i < nbb_cells.length; ++i) {\n",
       "                    if (nbb_cells[i].input_prompt_number == nbb_cell_id) {\n",
       "                        if (nbb_cells[i].get_text() == nbb_unformatted_code) {\n",
       "                             nbb_cells[i].set_text(nbb_formatted_code);\n",
       "                        }\n",
       "                        break;\n",
       "                    }\n",
       "                }\n",
       "            }, 500);\n",
       "            "
      ],
      "text/plain": [
       "<IPython.core.display.Javascript object>"
      ]
     },
     "metadata": {},
     "output_type": "display_data"
    }
   ],
   "source": [
    "xx.push(2)\n",
    "print(xx.peek())  # 2\n",
    "print(xx.size())  # 2"
   ]
  },
  {
   "cell_type": "code",
   "execution_count": 9,
   "id": "0884595c",
   "metadata": {},
   "outputs": [
    {
     "name": "stdout",
     "output_type": "stream",
     "text": [
      "1\n",
      "2\n"
     ]
    },
    {
     "data": {
      "application/javascript": [
       "\n",
       "            setTimeout(function() {\n",
       "                var nbb_cell_id = 9;\n",
       "                var nbb_unformatted_code = \"xx.pop()\\nprint(xx.peek())  # 1\\nprint(xx.size())  # 1\";\n",
       "                var nbb_formatted_code = \"xx.pop()\\nprint(xx.peek())  # 1\\nprint(xx.size())  # 1\";\n",
       "                var nbb_cells = Jupyter.notebook.get_cells();\n",
       "                for (var i = 0; i < nbb_cells.length; ++i) {\n",
       "                    if (nbb_cells[i].input_prompt_number == nbb_cell_id) {\n",
       "                        if (nbb_cells[i].get_text() == nbb_unformatted_code) {\n",
       "                             nbb_cells[i].set_text(nbb_formatted_code);\n",
       "                        }\n",
       "                        break;\n",
       "                    }\n",
       "                }\n",
       "            }, 500);\n",
       "            "
      ],
      "text/plain": [
       "<IPython.core.display.Javascript object>"
      ]
     },
     "metadata": {},
     "output_type": "display_data"
    }
   ],
   "source": [
    "xx.pop()\n",
    "print(xx.peek())  # 1\n",
    "print(xx.size())  # 1"
   ]
  },
  {
   "cell_type": "markdown",
   "id": "54b4bdf7",
   "metadata": {},
   "source": [
    "#### via Linked list\n",
    "Stack can also be implemented via linked list. "
   ]
  },
  {
   "cell_type": "markdown",
   "id": "9f28dba8",
   "metadata": {},
   "source": [
    "---"
   ]
  },
  {
   "cell_type": "markdown",
   "id": "9c0558d2",
   "metadata": {},
   "source": [
    "## Queue\n",
    "\n",
    "**FIFO - First In First out**\n",
    "\n",
    "- constant time to add and remove\n",
    "- operations\n",
    "    - enqueue(item): add item to the end\n",
    "    - dequeue(): remove first item\n",
    "    - peek(): return the first item from stack, no deletion\n",
    "    - isEmpty(): return True is queueis empty\n",
    "    - size(): return size of the queue\n",
    "    \n",
    "### Usage\n",
    "Often used in breath-first search: enqueue its adjacent nodes when a node is enqueued. "
   ]
  },
  {
   "cell_type": "markdown",
   "id": "4c2f7d53",
   "metadata": {},
   "source": [
    "### Implementation\n",
    "#### via Array"
   ]
  },
  {
   "cell_type": "code",
   "execution_count": 11,
   "id": "8304bb7e",
   "metadata": {},
   "outputs": [
    {
     "data": {
      "application/javascript": [
       "\n",
       "            setTimeout(function() {\n",
       "                var nbb_cell_id = 11;\n",
       "                var nbb_unformatted_code = \"class Queue:\\n    def __init__(self):\\n        self.queue = []\\n\\n    def dequeue(self):\\n        self.queue.pop(0)\\n\\n    def enqueue(self, item):\\n        self.queue.append(item)\\n\\n    def peek(self):\\n        return self.queue[0]\\n\\n    def isEmpty(self):\\n        return len(self.queue) == 0\\n\\n    def size(self):\\n        return len(self.queue)\";\n",
       "                var nbb_formatted_code = \"class Queue:\\n    def __init__(self):\\n        self.queue = []\\n\\n    def dequeue(self):\\n        self.queue.pop(0)\\n\\n    def enqueue(self, item):\\n        self.queue.append(item)\\n\\n    def peek(self):\\n        return self.queue[0]\\n\\n    def isEmpty(self):\\n        return len(self.queue) == 0\\n\\n    def size(self):\\n        return len(self.queue)\";\n",
       "                var nbb_cells = Jupyter.notebook.get_cells();\n",
       "                for (var i = 0; i < nbb_cells.length; ++i) {\n",
       "                    if (nbb_cells[i].input_prompt_number == nbb_cell_id) {\n",
       "                        if (nbb_cells[i].get_text() == nbb_unformatted_code) {\n",
       "                             nbb_cells[i].set_text(nbb_formatted_code);\n",
       "                        }\n",
       "                        break;\n",
       "                    }\n",
       "                }\n",
       "            }, 500);\n",
       "            "
      ],
      "text/plain": [
       "<IPython.core.display.Javascript object>"
      ]
     },
     "metadata": {},
     "output_type": "display_data"
    }
   ],
   "source": [
    "class Queue:\n",
    "    def __init__(self):\n",
    "        self.queue = []\n",
    "\n",
    "    def dequeue(self):\n",
    "        self.queue.pop(0)\n",
    "\n",
    "    def enqueue(self, item):\n",
    "        self.queue.append(item)\n",
    "\n",
    "    def peek(self):\n",
    "        return self.queue[0]\n",
    "\n",
    "    def isEmpty(self):\n",
    "        return len(self.queue) == 0\n",
    "\n",
    "    def size(self):\n",
    "        return len(self.queue)"
   ]
  },
  {
   "cell_type": "code",
   "execution_count": 12,
   "id": "f5e01ad3",
   "metadata": {},
   "outputs": [
    {
     "name": "stdout",
     "output_type": "stream",
     "text": [
      "True\n"
     ]
    },
    {
     "data": {
      "application/javascript": [
       "\n",
       "            setTimeout(function() {\n",
       "                var nbb_cell_id = 12;\n",
       "                var nbb_unformatted_code = \"xx = Queue()\\nprint(xx.isEmpty())  # True\";\n",
       "                var nbb_formatted_code = \"xx = Queue()\\nprint(xx.isEmpty())  # True\";\n",
       "                var nbb_cells = Jupyter.notebook.get_cells();\n",
       "                for (var i = 0; i < nbb_cells.length; ++i) {\n",
       "                    if (nbb_cells[i].input_prompt_number == nbb_cell_id) {\n",
       "                        if (nbb_cells[i].get_text() == nbb_unformatted_code) {\n",
       "                             nbb_cells[i].set_text(nbb_formatted_code);\n",
       "                        }\n",
       "                        break;\n",
       "                    }\n",
       "                }\n",
       "            }, 500);\n",
       "            "
      ],
      "text/plain": [
       "<IPython.core.display.Javascript object>"
      ]
     },
     "metadata": {},
     "output_type": "display_data"
    }
   ],
   "source": [
    "xx = Queue()\n",
    "print(xx.isEmpty())  # True"
   ]
  },
  {
   "cell_type": "code",
   "execution_count": 13,
   "id": "81b40529",
   "metadata": {},
   "outputs": [
    {
     "name": "stdout",
     "output_type": "stream",
     "text": [
      "False\n",
      "1\n"
     ]
    },
    {
     "data": {
      "application/javascript": [
       "\n",
       "            setTimeout(function() {\n",
       "                var nbb_cell_id = 13;\n",
       "                var nbb_unformatted_code = \"xx.enqueue(1)\\nprint(xx.isEmpty())  # False\\nprint(xx.size())  # 1\";\n",
       "                var nbb_formatted_code = \"xx.enqueue(1)\\nprint(xx.isEmpty())  # False\\nprint(xx.size())  # 1\";\n",
       "                var nbb_cells = Jupyter.notebook.get_cells();\n",
       "                for (var i = 0; i < nbb_cells.length; ++i) {\n",
       "                    if (nbb_cells[i].input_prompt_number == nbb_cell_id) {\n",
       "                        if (nbb_cells[i].get_text() == nbb_unformatted_code) {\n",
       "                             nbb_cells[i].set_text(nbb_formatted_code);\n",
       "                        }\n",
       "                        break;\n",
       "                    }\n",
       "                }\n",
       "            }, 500);\n",
       "            "
      ],
      "text/plain": [
       "<IPython.core.display.Javascript object>"
      ]
     },
     "metadata": {},
     "output_type": "display_data"
    }
   ],
   "source": [
    "xx.enqueue(1)\n",
    "print(xx.isEmpty())  # False\n",
    "print(xx.size())  # 1"
   ]
  },
  {
   "cell_type": "code",
   "execution_count": 14,
   "id": "758e5220",
   "metadata": {},
   "outputs": [
    {
     "name": "stdout",
     "output_type": "stream",
     "text": [
      "1\n",
      "2\n"
     ]
    },
    {
     "data": {
      "application/javascript": [
       "\n",
       "            setTimeout(function() {\n",
       "                var nbb_cell_id = 14;\n",
       "                var nbb_unformatted_code = \"xx.enqueue(2)\\nprint(xx.peek())  # 1\\nprint(xx.size())  # 2\";\n",
       "                var nbb_formatted_code = \"xx.enqueue(2)\\nprint(xx.peek())  # 1\\nprint(xx.size())  # 2\";\n",
       "                var nbb_cells = Jupyter.notebook.get_cells();\n",
       "                for (var i = 0; i < nbb_cells.length; ++i) {\n",
       "                    if (nbb_cells[i].input_prompt_number == nbb_cell_id) {\n",
       "                        if (nbb_cells[i].get_text() == nbb_unformatted_code) {\n",
       "                             nbb_cells[i].set_text(nbb_formatted_code);\n",
       "                        }\n",
       "                        break;\n",
       "                    }\n",
       "                }\n",
       "            }, 500);\n",
       "            "
      ],
      "text/plain": [
       "<IPython.core.display.Javascript object>"
      ]
     },
     "metadata": {},
     "output_type": "display_data"
    }
   ],
   "source": [
    "xx.enqueue(2)\n",
    "print(xx.peek())  # 1\n",
    "print(xx.size())  # 2"
   ]
  },
  {
   "cell_type": "code",
   "execution_count": 15,
   "id": "1f99031e",
   "metadata": {},
   "outputs": [
    {
     "name": "stdout",
     "output_type": "stream",
     "text": [
      "2\n",
      "1\n"
     ]
    },
    {
     "data": {
      "application/javascript": [
       "\n",
       "            setTimeout(function() {\n",
       "                var nbb_cell_id = 15;\n",
       "                var nbb_unformatted_code = \"xx.dequeue()\\nprint(xx.peek())  # 2\\nprint(xx.size())  # 1\";\n",
       "                var nbb_formatted_code = \"xx.dequeue()\\nprint(xx.peek())  # 2\\nprint(xx.size())  # 1\";\n",
       "                var nbb_cells = Jupyter.notebook.get_cells();\n",
       "                for (var i = 0; i < nbb_cells.length; ++i) {\n",
       "                    if (nbb_cells[i].input_prompt_number == nbb_cell_id) {\n",
       "                        if (nbb_cells[i].get_text() == nbb_unformatted_code) {\n",
       "                             nbb_cells[i].set_text(nbb_formatted_code);\n",
       "                        }\n",
       "                        break;\n",
       "                    }\n",
       "                }\n",
       "            }, 500);\n",
       "            "
      ],
      "text/plain": [
       "<IPython.core.display.Javascript object>"
      ]
     },
     "metadata": {},
     "output_type": "display_data"
    }
   ],
   "source": [
    "xx.dequeue()\n",
    "print(xx.peek())  # 2\n",
    "print(xx.size())  # 1"
   ]
  }
 ],
 "metadata": {
  "kernelspec": {
   "display_name": "algo39",
   "language": "python",
   "name": "algo39"
  },
  "language_info": {
   "codemirror_mode": {
    "name": "ipython",
    "version": 3
   },
   "file_extension": ".py",
   "mimetype": "text/x-python",
   "name": "python",
   "nbconvert_exporter": "python",
   "pygments_lexer": "ipython3",
   "version": "3.9.7"
  }
 },
 "nbformat": 4,
 "nbformat_minor": 5
}
